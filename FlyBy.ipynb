{
 "cells": [
  {
   "cell_type": "code",
   "execution_count": 7,
   "metadata": {},
   "outputs": [],
   "source": [
    "# from selenium import webdriver\n",
    "from bs4 import BeautifulSoup, NavigableString\n",
    "import pandas as pd\n",
    "import numpy as np\n",
    "import os\n",
    "import folium\n",
    "from folium.plugins import MarkerCluster\n",
    "import pytz\n",
    "import requests\n",
    "import re"
   ]
  },
  {
   "cell_type": "markdown",
   "metadata": {},
   "source": [
    " "
   ]
  },
  {
   "cell_type": "code",
   "execution_count": 1,
   "metadata": {},
   "outputs": [],
   "source": [
    "def query(flightN, date):\n",
    "    url = 'https://flightaware.com'\n",
    "    \n",
    "    page = requests.get(url+'/live/flight/'+str(flightN)).content\n",
    "    soup = BeautifulSoup(page)\n",
    "    \n",
    "    ls = soup.find_all('script')\n",
    "    ls_str = [str(x) for x in ls]\n",
    "    a = [x for x in ls_str if '\"trackLog\":' in x]\n",
    "    b = a[0].split(',')\n",
    "    \n",
    "    c = [re.findall(r'/live/flight/'+str(flightN)+'/history/'+str(date), x) for x in b]\n",
    "    ind = c.index(['/live/flight/'+str(flightN)+'/history/'+str(date)])\n",
    "    url1 = b[ind].split(':')[1].strip('\"')\n",
    "    url2 = url1 + '/tracklog'\n",
    "    url = url+url2\n",
    "    \n",
    "    return url"
   ]
  },
  {
   "cell_type": "code",
   "execution_count": 10,
   "metadata": {},
   "outputs": [],
   "source": [
    "def traj(path, tz):\n",
    "    \n",
    "    dfs = pd.read_html(url)  # read html table in a pandas dataframe\n",
    "    \n",
    "    lat = dfs[0].LatitudeLat.iloc[5:]  # extract latitude data\n",
    "    lon = dfs[0].LongitudeLon.iloc[5:]  # extract longtitude data\n",
    "    lat = lat[lat.str.contains(r'^[-0-9]')]  #  keep only numeric data throgh regex\n",
    "    lon = lon[lon.str.contains(r'^[-0-9]')]  # keep only numeric data through regex\n",
    "    lat = np.array(['.'.join([x for x in a.split('.')[:2]]) for a in lat])  # remove artifacts from the html\n",
    "    lon = np.array(['.'.join([x for x in a.split('.')[:2]]) for a in lon])  # remove artifacts from the html\n",
    "    \n",
    "    # transform numeric strings into floats \n",
    "    lat2 = []\n",
    "    lon2 = []\n",
    "    for x in lat:\n",
    "        if len(x.split('-')) > 1:\n",
    "            x = x.split('-')[1]\n",
    "            x = -float(x)\n",
    "            lat2.append(x)\n",
    "        else:\n",
    "            x = float(x)\n",
    "            lat2.append(x)\n",
    "    \n",
    "    for x in lon:\n",
    "        if len(x.split('-')) > 1:\n",
    "            x = x.split('-')[1]\n",
    "            x = -float(x)\n",
    "            lon2.append(x)\n",
    "        else:\n",
    "            x = float(x)\n",
    "            lon2.append(x)\n",
    "    \n",
    "   \n",
    "    coords = pd.DataFrame({'lat': lat2, 'lon': lon2})  # create dataframe with the cleaned data\n",
    "    \n",
    "    time = dfs[0]['Time (EDT)EDT'].iloc[5:] # extract time component from html table\n",
    "    time = time[time.str.contains(r'M$')]  # keep only time through regex\n",
    "    \n",
    "    # further processing\n",
    "    time2 = []\n",
    "    for x in time:\n",
    "        time2.append(x.split(' ')[1])\n",
    "    \n",
    "    time2 = pd.to_datetime(time2)  # transform time to datetime\n",
    "    time2 = time2.tz_localize(tz='US/Eastern')  # make time EDT aware\n",
    "    time2 = time2.tz_convert(tz=tz)  # transform time to departure's time zone\n",
    "    \n",
    "    coords['time'] = time2  # append time to lat/lon data\n",
    "    \n",
    "  \n",
    "    m = visualize(coords)\n",
    "    return m"
   ]
  },
  {
   "cell_type": "code",
   "execution_count": 14,
   "metadata": {},
   "outputs": [],
   "source": [
    "def visualize(coords):\n",
    "    # center to the mean of all points\n",
    "    m = folium.Map(location=coords[[\"lat\", \"lon\"]].mean().to_list(), zoom_start=5)\n",
    "\n",
    "    # if the points are too close to each other, cluster them, create a cluster overlay with MarkerCluster\n",
    "    # marker_cluster = MarkerCluster().add_to(m) ## commented out for now\n",
    "\n",
    "    # draw the markers and assign popup and hover texts\n",
    "    # add the markers the the cluster layers so that they are automatically clustered\n",
    "    for i,r in coords.iterrows():\n",
    "        location = (r[\"lat\"], r[\"lon\"])\n",
    "        folium.Circle(location=location, \n",
    "                     popup = r['time'],\n",
    "                     tooltip=r['time'],\n",
    "                     radius=4,\n",
    "                     color='red')\\\n",
    "        .add_to(m)\n",
    "\n",
    "    # display the map\n",
    "    return m"
   ]
  },
  {
   "cell_type": "code",
   "execution_count": 8,
   "metadata": {},
   "outputs": [
    {
     "name": "stdout",
     "output_type": "stream",
     "text": [
      "https://flightaware.com/live/flight/KLM1573/history/20210715/0635Z/EHAM/LGAV/tracklog\n"
     ]
    }
   ],
   "source": [
    "flightN='KLM1573'\n",
    "date=20210715\n",
    "url = query(flightN, date)\n",
    "print(url)\n",
    "tz = 'Europe/Amsterdam'"
   ]
  },
  {
   "cell_type": "code",
   "execution_count": 9,
   "metadata": {},
   "outputs": [
    {
     "ename": "NameError",
     "evalue": "name 'traj' is not defined",
     "output_type": "error",
     "traceback": [
      "\u001b[0;31m---------------------------------------------------------------------------\u001b[0m",
      "\u001b[0;31mNameError\u001b[0m                                 Traceback (most recent call last)",
      "\u001b[0;32m/tmp/ipykernel_6074/2115372280.py\u001b[0m in \u001b[0;36m<module>\u001b[0;34m\u001b[0m\n\u001b[0;32m----> 1\u001b[0;31m \u001b[0mm\u001b[0m \u001b[0;34m=\u001b[0m \u001b[0mtraj\u001b[0m\u001b[0;34m(\u001b[0m\u001b[0murl\u001b[0m\u001b[0;34m,\u001b[0m \u001b[0mtz\u001b[0m\u001b[0;34m)\u001b[0m\u001b[0;34m\u001b[0m\u001b[0;34m\u001b[0m\u001b[0m\n\u001b[0m\u001b[1;32m      2\u001b[0m \u001b[0mm\u001b[0m\u001b[0;34m\u001b[0m\u001b[0;34m\u001b[0m\u001b[0m\n",
      "\u001b[0;31mNameError\u001b[0m: name 'traj' is not defined"
     ]
    }
   ],
   "source": [
    "m = traj(url, tz)\n",
    "m"
   ]
  },
  {
   "cell_type": "markdown",
   "metadata": {},
   "source": [
    " ***"
   ]
  },
  {
   "cell_type": "markdown",
   "metadata": {},
   "source": [
    "# Websearch"
   ]
  },
  {
   "cell_type": "markdown",
   "metadata": {},
   "source": [
    "Enter flightnumber and departure data to extract data automatically from flightaware"
   ]
  },
  {
   "cell_type": "code",
   "execution_count": null,
   "metadata": {},
   "outputs": [],
   "source": []
  }
 ],
 "metadata": {
  "kernelspec": {
   "display_name": "Python [conda env:personal]",
   "language": "python",
   "name": "conda-env-personal-py"
  },
  "language_info": {
   "codemirror_mode": {
    "name": "ipython",
    "version": 3
   },
   "file_extension": ".py",
   "mimetype": "text/x-python",
   "name": "python",
   "nbconvert_exporter": "python",
   "pygments_lexer": "ipython3",
   "version": "3.9.0"
  }
 },
 "nbformat": 4,
 "nbformat_minor": 2
}
